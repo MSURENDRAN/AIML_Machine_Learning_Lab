{
  "cells": [
    {
      "cell_type": "markdown",
      "metadata": {
        "id": "view-in-github",
        "colab_type": "text"
      },
      "source": [
        "<a href=\"https://colab.research.google.com/github/MSURENDRAN/AIML_Machine_Learning_Lab/blob/main/Python_MOOC_Test.ipynb\" target=\"_parent\"><img src=\"https://colab.research.google.com/assets/colab-badge.svg\" alt=\"Open In Colab\"/></a>"
      ]
    },
    {
      "cell_type": "markdown",
      "source": [
        "Register No: 2348527\n",
        "Name: M SURENDRAN"
      ],
      "metadata": {
        "id": "jF9KT1UlukCf"
      }
    },
    {
      "cell_type": "code",
      "execution_count": 27,
      "metadata": {
        "id": "ohhxiaUK9sIA"
      },
      "outputs": [],
      "source": [
        "def AlphabetWar(input):\n",
        "  left_power = {\"w\": 4, \"p\": 3, \"b\": 2, \"s\": 1}\n",
        "  right_power = {\"m\": 4, \"q\": 3, \"d\": 2, \"z\": 1}\n",
        "\n",
        "  left_score =0\n",
        "  right_score=0\n",
        "\n",
        "  for letter in input:\n",
        "    if letter in left_power:\n",
        "      left_score += left_power[letter]\n",
        "    elif letter in right_power:\n",
        "      right_score += right_power[letter]\n",
        "\n",
        "  if left_score > right_score:\n",
        "    return \"Left side wins!\"\n",
        "  elif left_score < right_score:\n",
        "    return \"Right side wins!\"\n",
        "  else:\n",
        "    return \"Let's fight again!\""
      ]
    },
    {
      "cell_type": "code",
      "execution_count": 28,
      "metadata": {
        "id": "QswJctOO_Qfs",
        "colab": {
          "base_uri": "https://localhost:8080/",
          "height": 36
        },
        "outputId": "dac7b4a6-8f5e-43e1-fe7d-1aba01214206"
      },
      "outputs": [
        {
          "output_type": "execute_result",
          "data": {
            "text/plain": [
              "'Right side wins!'"
            ],
            "application/vnd.google.colaboratory.intrinsic+json": {
              "type": "string"
            }
          },
          "metadata": {},
          "execution_count": 28
        }
      ],
      "source": [
        "AlphabetWar(\"z\")"
      ]
    },
    {
      "cell_type": "code",
      "source": [
        "AlphabetWar(\"zdqmwpbs\")"
      ],
      "metadata": {
        "colab": {
          "base_uri": "https://localhost:8080/",
          "height": 36
        },
        "id": "CI3Ssj14sAMm",
        "outputId": "20e0fcff-d403-4dec-e35f-81f8cf66f5ae"
      },
      "execution_count": 29,
      "outputs": [
        {
          "output_type": "execute_result",
          "data": {
            "text/plain": [
              "\"Let's fight again!\""
            ],
            "application/vnd.google.colaboratory.intrinsic+json": {
              "type": "string"
            }
          },
          "metadata": {},
          "execution_count": 29
        }
      ]
    },
    {
      "cell_type": "code",
      "source": [
        "AlphabetWar(\"wwwwwwz\")"
      ],
      "metadata": {
        "colab": {
          "base_uri": "https://localhost:8080/",
          "height": 36
        },
        "id": "TORHf_nbsK9t",
        "outputId": "b08c6ac7-0025-44d3-c185-ddd6dc51bdbc"
      },
      "execution_count": 30,
      "outputs": [
        {
          "output_type": "execute_result",
          "data": {
            "text/plain": [
              "'Left side wins!'"
            ],
            "application/vnd.google.colaboratory.intrinsic+json": {
              "type": "string"
            }
          },
          "metadata": {},
          "execution_count": 30
        }
      ]
    },
    {
      "cell_type": "code",
      "source": [
        "AlphabetWar(\"mpd\")"
      ],
      "metadata": {
        "colab": {
          "base_uri": "https://localhost:8080/",
          "height": 36
        },
        "id": "-pdL8IDhstfq",
        "outputId": "1eb686f3-315c-4440-da52-e396c4162cea"
      },
      "execution_count": 31,
      "outputs": [
        {
          "output_type": "execute_result",
          "data": {
            "text/plain": [
              "'Right side wins!'"
            ],
            "application/vnd.google.colaboratory.intrinsic+json": {
              "type": "string"
            }
          },
          "metadata": {},
          "execution_count": 31
        }
      ]
    }
  ],
  "metadata": {
    "colab": {
      "provenance": [],
      "authorship_tag": "ABX9TyNSo9FkFvw54fHyX1QI4a1J",
      "include_colab_link": true
    },
    "kernelspec": {
      "display_name": "Python 3",
      "name": "python3"
    },
    "language_info": {
      "name": "python"
    }
  },
  "nbformat": 4,
  "nbformat_minor": 0
}